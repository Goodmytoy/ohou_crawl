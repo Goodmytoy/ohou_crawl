{
 "cells": [
  {
   "cell_type": "code",
   "execution_count": 1,
   "metadata": {},
   "outputs": [],
   "source": [
    "from ohou_crawl import *\n",
    "import urllib3\n",
    "\n",
    "urllib3.disable_warnings(urllib3.exceptions.InsecureRequestWarning)"
   ]
  },
  {
   "cell_type": "code",
   "execution_count": 4,
   "metadata": {},
   "outputs": [],
   "source": [
    "oh = crawl_ohou()"
   ]
  },
  {
   "cell_type": "code",
   "execution_count": 6,
   "metadata": {},
   "outputs": [
    {
     "name": "stdout",
     "output_type": "stream",
     "text": [
      "query : LG 공기청정기, total_count : 4259, num_request : None\n",
      "Elapsed time : 0:00:13.902673\n"
     ]
    }
   ],
   "source": [
    "# type: (\"feeds\", \"advices\", \"projects\")\n",
    "oh_ap = oh.run(query = \"LG 공기청정기\", type = \"feeds\", num_request = None)"
   ]
  },
  {
   "cell_type": "code",
   "execution_count": 255,
   "metadata": {},
   "outputs": [
    {
     "name": "stdout",
     "output_type": "stream",
     "text": [
      "100\n",
      "200\n",
      "300\n",
      "400\n",
      "500\n",
      "600\n",
      "700\n",
      "800\n",
      "900\n",
      "1000\n",
      "1100\n",
      "1200\n",
      "1300\n",
      "1400\n",
      "1500\n",
      "1600\n",
      "1700\n",
      "1800\n",
      "1900\n",
      "2000\n",
      "2100\n",
      "2200\n",
      "2300\n",
      "2400\n",
      "2500\n",
      "2600\n",
      "2700\n",
      "2800\n",
      "2900\n",
      "3000\n",
      "3100\n",
      "3200\n",
      "3300\n",
      "3400\n",
      "3500\n",
      "3600\n",
      "3700\n",
      "3800\n",
      "3900\n",
      "4000\n",
      "4100\n"
     ]
    }
   ],
   "source": [
    "url = \"https://ohou.se/cards/feed.json\"\n",
    "headers = {\"user-agent\" : \"Mozilla/5.0 (Macintosh; Intel Mac OS X 10_15_7) AppleWebKit/537.36 (KHTML, like Gecko) Chrome/108.0.0.0 Safari/537.36\"}\n",
    "FLAG = True\n",
    "page = 1\n",
    "rq_list = []\n",
    "while FLAG:\n",
    "    if page % 100 == 0:\n",
    "        print(page)\n",
    "    params = {'page' : page, \"per\" : 100, \"v\" : 4, \"order\" : \"recent\"}\n",
    "    rq = requests.get(url, params = params, headers = headers, verify = False)\n",
    "    rq_list.append(rq)\n",
    "    page += 1\n",
    "\n",
    "    if rq.json()[\"next\"] == True:\n",
    "        FLAG = True\n",
    "    else:\n",
    "        FLAG = False"
   ]
  },
  {
   "cell_type": "code",
   "execution_count": 256,
   "metadata": {},
   "outputs": [],
   "source": [
    "cards_list = []\n",
    "for x in rq_list:\n",
    "     cards_list.extend(x.json().get(\"cards\"))\n",
    "\n",
    "cards_df = pd.DataFrame(cards_list)     \n",
    "cards_df[\"user_id\"] = cards_df[\"user\"].apply(lambda x: x.get(\"id\"))\n",
    "cards_df[\"nickname\"] = cards_df[\"user\"].apply(lambda x: x.get(\"nickname\"))\n",
    "cards_df[\"card_collection_id\"] = cards_df[\"card_collection\"].apply(lambda x: x.get(\"id\") if pd.isna(x) == False else None) \n",
    "cards_df[\"card_collection_created_at\"] = cards_df[\"card_collection\"].apply(lambda x: x.get(\"created_at\") if pd.isna(x) == False else None) \n",
    "cards_df[\"image_url\"] = cards_df[\"image\"].apply(lambda x: x.get(\"url\"))"
   ]
  },
  {
   "cell_type": "code",
   "execution_count": 257,
   "metadata": {},
   "outputs": [],
   "source": [
    "cards_df = pd.DataFrame(cards_list)"
   ]
  },
  {
   "cell_type": "code",
   "execution_count": 260,
   "metadata": {},
   "outputs": [],
   "source": [
    "cards_df[\"user_id\"] = cards_df[\"user\"].apply(lambda x: x.get(\"id\"))\n",
    "cards_df[\"nickname\"] = cards_df[\"user\"].apply(lambda x: x.get(\"nickname\"))\n",
    "cards_df[\"card_collection_id\"] = cards_df[\"card_collection\"].apply(lambda x: x.get(\"id\") if pd.isna(x) == False else None) \n",
    "cards_df[\"card_collection_created_at\"] = cards_df[\"card_collection\"].apply(lambda x: x.get(\"created_at\") if pd.isna(x) == False else None) \n",
    "cards_df[\"image_url\"] = cards_df[\"image\"].apply(lambda x: x.get(\"url\"))"
   ]
  },
  {
   "cell_type": "code",
   "execution_count": 258,
   "metadata": {},
   "outputs": [],
   "source": [
    "cards_df.to_parquet(\"cards_df_recent_2230920.parquet\")"
   ]
  },
  {
   "cell_type": "code",
   "execution_count": null,
   "metadata": {},
   "outputs": [],
   "source": [
    "cards_df.head()"
   ]
  },
  {
   "cell_type": "code",
   "execution_count": 76,
   "metadata": {},
   "outputs": [],
   "source": [
    "url = \"https://ohou.se/projects.json\"\n",
    "headers = {\"user-agent\" : \"Mozilla/5.0 (Macintosh; Intel Mac OS X 10_15_7) AppleWebKit/537.36 (KHTML, like Gecko) Chrome/108.0.0.0 Safari/537.36\"}\n",
    "FLAG = True\n",
    "page = 1\n",
    "project_rq_list = []\n",
    "while FLAG:\n",
    "    if page % 100 == 0:\n",
    "        print(page)\n",
    "    params = {\"order\": \"recent\", 'page' : page, \"per\" : 100, \"v\" : 4}\n",
    "    rq = requests.get(url, params = params, headers = headers, verify = False)\n",
    "    project_rq_list.append(rq)\n",
    "    page += 1\n",
    "\n",
    "    if rq.json()[\"next\"] == True:\n",
    "        FLAG = True\n",
    "    else:\n",
    "        FLAG = False"
   ]
  },
  {
   "cell_type": "code",
   "execution_count": 80,
   "metadata": {},
   "outputs": [],
   "source": [
    "projects_list = []\n",
    "for x in project_rq_list:\n",
    "     projects_list.extend(x.json().get(\"projects\"))"
   ]
  },
  {
   "cell_type": "code",
   "execution_count": 81,
   "metadata": {},
   "outputs": [],
   "source": [
    "projects_df = pd.DataFrame(projects_list)"
   ]
  },
  {
   "cell_type": "code",
   "execution_count": 83,
   "metadata": {},
   "outputs": [],
   "source": [
    "projects_df.to_parquet(\"projects_df_239020.parquet\")"
   ]
  },
  {
   "cell_type": "code",
   "execution_count": null,
   "metadata": {},
   "outputs": [],
   "source": []
  },
  {
   "cell_type": "code",
   "execution_count": null,
   "metadata": {},
   "outputs": [],
   "source": [
    "url = \"https://ohou.se/advices.json\"\n",
    "headers = {\"user-agent\" : \"Mozilla/5.0 (Macintosh; Intel Mac OS X 10_15_7) AppleWebKit/537.36 (KHTML, like Gecko) Chrome/108.0.0.0 Safari/537.36\"}\n",
    "FLAG = True\n",
    "page = 1\n",
    "advices_rq_list = []\n",
    "while FLAG:\n",
    "    if page % 100 == 0:\n",
    "        print(page)\n",
    "    params = {\"order\": \"recent\", 'page' : page, \"per\" : 100, \"v\" : 4}\n",
    "    rq = requests.get(url, params = params, headers = headers, verify = False)\n",
    "    advices_rq_list.append(rq)\n",
    "    page += 1\n",
    "\n",
    "    # if len(rq.json()[\"advices\"]) == 100:\n",
    "    #     FLAG = True\n",
    "    # else:\n",
    "    #     FLAG = False"
   ]
  },
  {
   "cell_type": "code",
   "execution_count": 4,
   "metadata": {},
   "outputs": [],
   "source": [
    "advices_list = []\n",
    "for x in advices_rq_list:\n",
    "     advices_list.extend(x.json().get(\"advices\"))"
   ]
  },
  {
   "cell_type": "code",
   "execution_count": 5,
   "metadata": {},
   "outputs": [],
   "source": [
    "advices_df = pd.DataFrame(advices_list)"
   ]
  },
  {
   "cell_type": "code",
   "execution_count": 6,
   "metadata": {},
   "outputs": [],
   "source": [
    "advices_df.to_parquet(\"advices_df_230920.parquet\")"
   ]
  },
  {
   "cell_type": "code",
   "execution_count": 112,
   "metadata": {},
   "outputs": [],
   "source": [
    "url = \"https://ohou.se/document/interior3ds\"\n",
    "headers = {\"user-agent\" : \"Mozilla/5.0 (Macintosh; Intel Mac OS X 10_15_7) AppleWebKit/537.36 (KHTML, like Gecko) Chrome/108.0.0.0 Safari/537.36\"}\n",
    "FLAG = True\n",
    "page = 1\n",
    "pageToken = None\n",
    "interior3ds_rq_list = []\n",
    "while FLAG:\n",
    "    if page % 100 == 0:\n",
    "        print(page)\n",
    "    params = {\"order\": \"recent\", 'pageToken' : pageToken, \"size\" :size}\n",
    "    rq = requests.get(url, params = params, headers = headers, verify = False)\n",
    "    interior3ds_rq_list.append(rq)\n",
    "    page += 1\n",
    "\n",
    "    if rq.json().get(\"nextPageToken\") is not None :\n",
    "        FLAG = True\n",
    "        pageToken = rq.json().get(\"nextPageToken\")\n",
    "    else:\n",
    "        FLAG = False"
   ]
  },
  {
   "cell_type": "code",
   "execution_count": 113,
   "metadata": {},
   "outputs": [],
   "source": [
    "interior3ds_list = []\n",
    "for x in interior3ds_rq_list:\n",
    "     interior3ds_list.extend(x.json().get(\"interior3ds\"))\n",
    "interior3ds_df = pd.DataFrame(interior3ds_list)"
   ]
  },
  {
   "cell_type": "code",
   "execution_count": null,
   "metadata": {},
   "outputs": [],
   "source": [
    "projects_df[\"types\"] = \"projects\"\n",
    "card_collection_df[\"types\"] = \"card_collection\""
   ]
  },
  {
   "cell_type": "code",
   "execution_count": 254,
   "metadata": {},
   "outputs": [
    {
     "data": {
      "text/plain": [
       "(134524, 28)"
      ]
     },
     "execution_count": 254,
     "metadata": {},
     "output_type": "execute_result"
    }
   ],
   "source": [
    "cards_df.drop_duplicates(\"id\").shape # 148883"
   ]
  },
  {
   "cell_type": "code",
   "execution_count": 2,
   "metadata": {},
   "outputs": [],
   "source": [
    "cards_df = pd.read_parquet(\"cards_df_recent_230920.parquet\")\n",
    "projects_df = pd.read_parquet(\"projects_df_239020.parquet\")\n",
    "advices_df = pd.read_parquet(\"advices_df_230920.parquet\")"
   ]
  },
  {
   "cell_type": "code",
   "execution_count": 3,
   "metadata": {},
   "outputs": [],
   "source": [
    "cards_df[\"user_id\"] = cards_df[\"user\"].apply(lambda x: x.get(\"id\"))\n",
    "cards_df[\"nickname\"] = cards_df[\"user\"].apply(lambda x: x.get(\"nickname\"))\n",
    "cards_df[\"card_collection_id\"] = cards_df[\"card_collection\"].apply(lambda x: x.get(\"id\") if pd.isna(x) == False else None) \n",
    "cards_df[\"card_collection_created_at\"] = cards_df[\"card_collection\"].apply(lambda x: x.get(\"created_at\") if pd.isna(x) == False else None) \n",
    "cards_df[\"image_url\"] = cards_df[\"image\"].apply(lambda x: x.get(\"url\"))"
   ]
  },
  {
   "cell_type": "code",
   "execution_count": 4,
   "metadata": {},
   "outputs": [
    {
     "name": "stderr",
     "output_type": "stream",
     "text": [
      "/tmp/ipykernel_2040/1035034776.py:3: FutureWarning: The default value of regex will change from True to False in a future version.\n",
      "  advices_df[\"created_at\"] = pd.to_datetime(advices_df[\"created_at\"].str.replace(r\"년\\s?|월\\s?\",\"-\").str.replace(r\"일\\s?\", \"\"))\n"
     ]
    }
   ],
   "source": [
    "advices_df[\"user_id\"] = advices_df[\"user\"].apply(lambda x: x.get(\"id\"))\n",
    "advices_df[\"nickname\"] = advices_df[\"user\"].apply(lambda x: x.get(\"nickname\"))\n",
    "advices_df[\"created_at\"] = pd.to_datetime(advices_df[\"created_at\"].str.replace(r\"년\\s?|월\\s?\",\"-\").str.replace(r\"일\\s?\", \"\"))"
   ]
  },
  {
   "cell_type": "code",
   "execution_count": 5,
   "metadata": {},
   "outputs": [],
   "source": [
    "projects_temp = projects_df[[\"id\", \"user_id\", \"nickname\", \"created_at\"]].drop_duplicates(\"id\")\n",
    "projects_temp['type'] = \"projects\"\n",
    "\n",
    "card_collection_temp = cards_df.loc[cards_df[\"card_collection_id\"].isna() == False, [\"card_collection_id\", \"user_id\", \"nickname\", \"card_collection_created_at\"]].drop_duplicates(\"card_collection_id\")\n",
    "card_collection_temp['type'] = \"card_collection\"\n",
    "card_collection_temp.rename(columns = {\"card_collection_id\" : \"id\",\n",
    "                                       \"card_collection_created_at\" : \"created_at\"},inplace = True)\n",
    "\n",
    "advices_temp = advices_df[[\"id\", \"user_id\", \"nickname\", \"created_at\"]].drop_duplicates(\"id\")\n",
    "advices_temp['type'] = \"advices\""
   ]
  },
  {
   "cell_type": "code",
   "execution_count": 33,
   "metadata": {},
   "outputs": [
    {
     "data": {
      "text/plain": [
       "CardImage    475701\n",
       "CardVideo     11406\n",
       "Name: type, dtype: int64"
      ]
     },
     "execution_count": 33,
     "metadata": {},
     "output_type": "execute_result"
    }
   ],
   "source": [
    "cards_df[\"type\"].value_counts()"
   ]
  },
  {
   "cell_type": "code",
   "execution_count": 32,
   "metadata": {},
   "outputs": [
    {
     "data": {
      "text/html": [
       "<div>\n",
       "<style scoped>\n",
       "    .dataframe tbody tr th:only-of-type {\n",
       "        vertical-align: middle;\n",
       "    }\n",
       "\n",
       "    .dataframe tbody tr th {\n",
       "        vertical-align: top;\n",
       "    }\n",
       "\n",
       "    .dataframe thead th {\n",
       "        text-align: right;\n",
       "    }\n",
       "</style>\n",
       "<table border=\"1\" class=\"dataframe\">\n",
       "  <thead>\n",
       "    <tr style=\"text-align: right;\">\n",
       "      <th></th>\n",
       "      <th>id</th>\n",
       "      <th>user_id</th>\n",
       "      <th>nickname</th>\n",
       "      <th>created_at</th>\n",
       "      <th>type</th>\n",
       "    </tr>\n",
       "  </thead>\n",
       "  <tbody>\n",
       "  </tbody>\n",
       "</table>\n",
       "</div>"
      ],
      "text/plain": [
       "Empty DataFrame\n",
       "Columns: [id, user_id, nickname, created_at, type]\n",
       "Index: []"
      ]
     },
     "execution_count": 32,
     "metadata": {},
     "output_type": "execute_result"
    }
   ],
   "source": [
    "card_collection_temp.loc[card_collection_temp[\"id\"]== 7999319.0]"
   ]
  },
  {
   "cell_type": "code",
   "execution_count": 30,
   "metadata": {},
   "outputs": [
    {
     "data": {
      "text/html": [
       "<div>\n",
       "<style scoped>\n",
       "    .dataframe tbody tr th:only-of-type {\n",
       "        vertical-align: middle;\n",
       "    }\n",
       "\n",
       "    .dataframe tbody tr th {\n",
       "        vertical-align: top;\n",
       "    }\n",
       "\n",
       "    .dataframe thead th {\n",
       "        text-align: right;\n",
       "    }\n",
       "</style>\n",
       "<table border=\"1\" class=\"dataframe\">\n",
       "  <thead>\n",
       "    <tr style=\"text-align: right;\">\n",
       "      <th></th>\n",
       "      <th>id</th>\n",
       "      <th>user_id</th>\n",
       "      <th>nickname</th>\n",
       "      <th>created_at</th>\n",
       "      <th>type</th>\n",
       "    </tr>\n",
       "  </thead>\n",
       "  <tbody>\n",
       "    <tr>\n",
       "      <th>124957</th>\n",
       "      <td>416233.0</td>\n",
       "      <td>59791</td>\n",
       "      <td>미소디자인</td>\n",
       "      <td>2019-01-29T10:50:23.000+09:00</td>\n",
       "      <td>card_collection</td>\n",
       "    </tr>\n",
       "    <tr>\n",
       "      <th>124967</th>\n",
       "      <td>416236.0</td>\n",
       "      <td>59791</td>\n",
       "      <td>미소디자인</td>\n",
       "      <td>2019-01-29T10:52:20.000+09:00</td>\n",
       "      <td>card_collection</td>\n",
       "    </tr>\n",
       "    <tr>\n",
       "      <th>124972</th>\n",
       "      <td>416238.0</td>\n",
       "      <td>59791</td>\n",
       "      <td>미소디자인</td>\n",
       "      <td>2019-01-29T10:54:55.000+09:00</td>\n",
       "      <td>card_collection</td>\n",
       "    </tr>\n",
       "    <tr>\n",
       "      <th>124977</th>\n",
       "      <td>418275.0</td>\n",
       "      <td>59791</td>\n",
       "      <td>미소디자인</td>\n",
       "      <td>2019-01-30T09:35:16.000+09:00</td>\n",
       "      <td>card_collection</td>\n",
       "    </tr>\n",
       "    <tr>\n",
       "      <th>293374</th>\n",
       "      <td>418279.0</td>\n",
       "      <td>59791</td>\n",
       "      <td>미소디자인</td>\n",
       "      <td>2019-01-30T09:38:15.000+09:00</td>\n",
       "      <td>card_collection</td>\n",
       "    </tr>\n",
       "    <tr>\n",
       "      <th>...</th>\n",
       "      <td>...</td>\n",
       "      <td>...</td>\n",
       "      <td>...</td>\n",
       "      <td>...</td>\n",
       "      <td>...</td>\n",
       "    </tr>\n",
       "    <tr>\n",
       "      <th>8</th>\n",
       "      <td>21792946.0</td>\n",
       "      <td>20790215</td>\n",
       "      <td>사기스탑경찰신고</td>\n",
       "      <td>2023-09-20T15:57:58.000+09:00</td>\n",
       "      <td>card_collection</td>\n",
       "    </tr>\n",
       "    <tr>\n",
       "      <th>7</th>\n",
       "      <td>21792955.0</td>\n",
       "      <td>12592891</td>\n",
       "      <td>잠드는별</td>\n",
       "      <td>2023-09-20T15:58:43.000+09:00</td>\n",
       "      <td>card_collection</td>\n",
       "    </tr>\n",
       "    <tr>\n",
       "      <th>6</th>\n",
       "      <td>21792974.0</td>\n",
       "      <td>17653612</td>\n",
       "      <td>둘별똘</td>\n",
       "      <td>2023-09-20T16:00:23.000+09:00</td>\n",
       "      <td>card_collection</td>\n",
       "    </tr>\n",
       "    <tr>\n",
       "      <th>1</th>\n",
       "      <td>21792988.0</td>\n",
       "      <td>15451841</td>\n",
       "      <td>minimal_lub</td>\n",
       "      <td>2023-09-20T16:01:49.000+09:00</td>\n",
       "      <td>card_collection</td>\n",
       "    </tr>\n",
       "    <tr>\n",
       "      <th>0</th>\n",
       "      <td>21792998.0</td>\n",
       "      <td>5604879</td>\n",
       "      <td>이케아행주</td>\n",
       "      <td>2023-09-20T16:02:13.000+09:00</td>\n",
       "      <td>card_collection</td>\n",
       "    </tr>\n",
       "  </tbody>\n",
       "</table>\n",
       "<p>210281 rows × 5 columns</p>\n",
       "</div>"
      ],
      "text/plain": [
       "                id   user_id     nickname                     created_at  \\\n",
       "124957    416233.0     59791        미소디자인  2019-01-29T10:50:23.000+09:00   \n",
       "124967    416236.0     59791        미소디자인  2019-01-29T10:52:20.000+09:00   \n",
       "124972    416238.0     59791        미소디자인  2019-01-29T10:54:55.000+09:00   \n",
       "124977    418275.0     59791        미소디자인  2019-01-30T09:35:16.000+09:00   \n",
       "293374    418279.0     59791        미소디자인  2019-01-30T09:38:15.000+09:00   \n",
       "...            ...       ...          ...                            ...   \n",
       "8       21792946.0  20790215     사기스탑경찰신고  2023-09-20T15:57:58.000+09:00   \n",
       "7       21792955.0  12592891         잠드는별  2023-09-20T15:58:43.000+09:00   \n",
       "6       21792974.0  17653612          둘별똘  2023-09-20T16:00:23.000+09:00   \n",
       "1       21792988.0  15451841  minimal_lub  2023-09-20T16:01:49.000+09:00   \n",
       "0       21792998.0   5604879        이케아행주  2023-09-20T16:02:13.000+09:00   \n",
       "\n",
       "                   type  \n",
       "124957  card_collection  \n",
       "124967  card_collection  \n",
       "124972  card_collection  \n",
       "124977  card_collection  \n",
       "293374  card_collection  \n",
       "...                 ...  \n",
       "8       card_collection  \n",
       "7       card_collection  \n",
       "6       card_collection  \n",
       "1       card_collection  \n",
       "0       card_collection  \n",
       "\n",
       "[210281 rows x 5 columns]"
      ]
     },
     "execution_count": 30,
     "metadata": {},
     "output_type": "execute_result"
    }
   ],
   "source": [
    "card_collection_temp.sort_values(\"created_at\")"
   ]
  },
  {
   "cell_type": "code",
   "execution_count": 6,
   "metadata": {},
   "outputs": [],
   "source": [
    "ohou_contents = pd.concat([projects_temp,\n",
    "           card_collection_temp,\n",
    "           advices_temp], axis = 0)"
   ]
  },
  {
   "cell_type": "code",
   "execution_count": null,
   "metadata": {},
   "outputs": [],
   "source": []
  },
  {
   "cell_type": "code",
   "execution_count": 7,
   "metadata": {},
   "outputs": [],
   "source": [
    "ohou_contents[\"created_at\"] = pd.to_datetime(ohou_contents[\"created_at\"])"
   ]
  },
  {
   "cell_type": "code",
   "execution_count": 8,
   "metadata": {},
   "outputs": [],
   "source": [
    "ohou_contents[\"year\"] = ohou_contents[\"created_at\"].dt.year"
   ]
  },
  {
   "cell_type": "code",
   "execution_count": 9,
   "metadata": {},
   "outputs": [
    {
     "data": {
      "text/html": [
       "<div>\n",
       "<style scoped>\n",
       "    .dataframe tbody tr th:only-of-type {\n",
       "        vertical-align: middle;\n",
       "    }\n",
       "\n",
       "    .dataframe tbody tr th {\n",
       "        vertical-align: top;\n",
       "    }\n",
       "\n",
       "    .dataframe thead th {\n",
       "        text-align: right;\n",
       "    }\n",
       "</style>\n",
       "<table border=\"1\" class=\"dataframe\">\n",
       "  <thead>\n",
       "    <tr style=\"text-align: right;\">\n",
       "      <th></th>\n",
       "      <th>year</th>\n",
       "      <th>type</th>\n",
       "      <th>count</th>\n",
       "      <th>unique_user_count</th>\n",
       "      <th>average_user_contents_count</th>\n",
       "    </tr>\n",
       "  </thead>\n",
       "  <tbody>\n",
       "    <tr>\n",
       "      <th>0</th>\n",
       "      <td>2014</td>\n",
       "      <td>projects</td>\n",
       "      <td>39</td>\n",
       "      <td>28</td>\n",
       "      <td>1.392857</td>\n",
       "    </tr>\n",
       "    <tr>\n",
       "      <th>1</th>\n",
       "      <td>2015</td>\n",
       "      <td>advices</td>\n",
       "      <td>141</td>\n",
       "      <td>37</td>\n",
       "      <td>3.810811</td>\n",
       "    </tr>\n",
       "    <tr>\n",
       "      <th>2</th>\n",
       "      <td>2015</td>\n",
       "      <td>projects</td>\n",
       "      <td>379</td>\n",
       "      <td>244</td>\n",
       "      <td>1.553279</td>\n",
       "    </tr>\n",
       "    <tr>\n",
       "      <th>3</th>\n",
       "      <td>2016</td>\n",
       "      <td>advices</td>\n",
       "      <td>749</td>\n",
       "      <td>84</td>\n",
       "      <td>8.916667</td>\n",
       "    </tr>\n",
       "    <tr>\n",
       "      <th>4</th>\n",
       "      <td>2016</td>\n",
       "      <td>projects</td>\n",
       "      <td>305</td>\n",
       "      <td>220</td>\n",
       "      <td>1.386364</td>\n",
       "    </tr>\n",
       "    <tr>\n",
       "      <th>5</th>\n",
       "      <td>2017</td>\n",
       "      <td>advices</td>\n",
       "      <td>143</td>\n",
       "      <td>33</td>\n",
       "      <td>4.333333</td>\n",
       "    </tr>\n",
       "    <tr>\n",
       "      <th>6</th>\n",
       "      <td>2017</td>\n",
       "      <td>projects</td>\n",
       "      <td>348</td>\n",
       "      <td>311</td>\n",
       "      <td>1.118971</td>\n",
       "    </tr>\n",
       "    <tr>\n",
       "      <th>7</th>\n",
       "      <td>2018</td>\n",
       "      <td>advices</td>\n",
       "      <td>198</td>\n",
       "      <td>25</td>\n",
       "      <td>7.920000</td>\n",
       "    </tr>\n",
       "    <tr>\n",
       "      <th>8</th>\n",
       "      <td>2018</td>\n",
       "      <td>projects</td>\n",
       "      <td>508</td>\n",
       "      <td>492</td>\n",
       "      <td>1.032520</td>\n",
       "    </tr>\n",
       "    <tr>\n",
       "      <th>9</th>\n",
       "      <td>2019</td>\n",
       "      <td>advices</td>\n",
       "      <td>498</td>\n",
       "      <td>69</td>\n",
       "      <td>7.217391</td>\n",
       "    </tr>\n",
       "    <tr>\n",
       "      <th>10</th>\n",
       "      <td>2019</td>\n",
       "      <td>card_collection</td>\n",
       "      <td>13</td>\n",
       "      <td>4</td>\n",
       "      <td>3.250000</td>\n",
       "    </tr>\n",
       "    <tr>\n",
       "      <th>11</th>\n",
       "      <td>2019</td>\n",
       "      <td>projects</td>\n",
       "      <td>1233</td>\n",
       "      <td>1202</td>\n",
       "      <td>1.025790</td>\n",
       "    </tr>\n",
       "    <tr>\n",
       "      <th>12</th>\n",
       "      <td>2020</td>\n",
       "      <td>advices</td>\n",
       "      <td>540</td>\n",
       "      <td>213</td>\n",
       "      <td>2.535211</td>\n",
       "    </tr>\n",
       "    <tr>\n",
       "      <th>13</th>\n",
       "      <td>2020</td>\n",
       "      <td>card_collection</td>\n",
       "      <td>10</td>\n",
       "      <td>10</td>\n",
       "      <td>1.000000</td>\n",
       "    </tr>\n",
       "    <tr>\n",
       "      <th>14</th>\n",
       "      <td>2020</td>\n",
       "      <td>projects</td>\n",
       "      <td>1338</td>\n",
       "      <td>1216</td>\n",
       "      <td>1.100329</td>\n",
       "    </tr>\n",
       "    <tr>\n",
       "      <th>15</th>\n",
       "      <td>2021</td>\n",
       "      <td>advices</td>\n",
       "      <td>879</td>\n",
       "      <td>451</td>\n",
       "      <td>1.949002</td>\n",
       "    </tr>\n",
       "    <tr>\n",
       "      <th>16</th>\n",
       "      <td>2021</td>\n",
       "      <td>card_collection</td>\n",
       "      <td>23</td>\n",
       "      <td>21</td>\n",
       "      <td>1.095238</td>\n",
       "    </tr>\n",
       "    <tr>\n",
       "      <th>17</th>\n",
       "      <td>2021</td>\n",
       "      <td>projects</td>\n",
       "      <td>1700</td>\n",
       "      <td>1478</td>\n",
       "      <td>1.150203</td>\n",
       "    </tr>\n",
       "    <tr>\n",
       "      <th>18</th>\n",
       "      <td>2022</td>\n",
       "      <td>advices</td>\n",
       "      <td>1880</td>\n",
       "      <td>724</td>\n",
       "      <td>2.596685</td>\n",
       "    </tr>\n",
       "    <tr>\n",
       "      <th>19</th>\n",
       "      <td>2022</td>\n",
       "      <td>card_collection</td>\n",
       "      <td>67</td>\n",
       "      <td>50</td>\n",
       "      <td>1.340000</td>\n",
       "    </tr>\n",
       "    <tr>\n",
       "      <th>20</th>\n",
       "      <td>2022</td>\n",
       "      <td>projects</td>\n",
       "      <td>2008</td>\n",
       "      <td>1869</td>\n",
       "      <td>1.074371</td>\n",
       "    </tr>\n",
       "    <tr>\n",
       "      <th>21</th>\n",
       "      <td>2023</td>\n",
       "      <td>advices</td>\n",
       "      <td>1143</td>\n",
       "      <td>212</td>\n",
       "      <td>5.391509</td>\n",
       "    </tr>\n",
       "    <tr>\n",
       "      <th>22</th>\n",
       "      <td>2023</td>\n",
       "      <td>card_collection</td>\n",
       "      <td>210168</td>\n",
       "      <td>77776</td>\n",
       "      <td>2.702222</td>\n",
       "    </tr>\n",
       "    <tr>\n",
       "      <th>23</th>\n",
       "      <td>2023</td>\n",
       "      <td>projects</td>\n",
       "      <td>1298</td>\n",
       "      <td>1297</td>\n",
       "      <td>1.000771</td>\n",
       "    </tr>\n",
       "  </tbody>\n",
       "</table>\n",
       "</div>"
      ],
      "text/plain": [
       "    year             type   count  unique_user_count  \\\n",
       "0   2014         projects      39                 28   \n",
       "1   2015          advices     141                 37   \n",
       "2   2015         projects     379                244   \n",
       "3   2016          advices     749                 84   \n",
       "4   2016         projects     305                220   \n",
       "5   2017          advices     143                 33   \n",
       "6   2017         projects     348                311   \n",
       "7   2018          advices     198                 25   \n",
       "8   2018         projects     508                492   \n",
       "9   2019          advices     498                 69   \n",
       "10  2019  card_collection      13                  4   \n",
       "11  2019         projects    1233               1202   \n",
       "12  2020          advices     540                213   \n",
       "13  2020  card_collection      10                 10   \n",
       "14  2020         projects    1338               1216   \n",
       "15  2021          advices     879                451   \n",
       "16  2021  card_collection      23                 21   \n",
       "17  2021         projects    1700               1478   \n",
       "18  2022          advices    1880                724   \n",
       "19  2022  card_collection      67                 50   \n",
       "20  2022         projects    2008               1869   \n",
       "21  2023          advices    1143                212   \n",
       "22  2023  card_collection  210168              77776   \n",
       "23  2023         projects    1298               1297   \n",
       "\n",
       "    average_user_contents_count  \n",
       "0                      1.392857  \n",
       "1                      3.810811  \n",
       "2                      1.553279  \n",
       "3                      8.916667  \n",
       "4                      1.386364  \n",
       "5                      4.333333  \n",
       "6                      1.118971  \n",
       "7                      7.920000  \n",
       "8                      1.032520  \n",
       "9                      7.217391  \n",
       "10                     3.250000  \n",
       "11                     1.025790  \n",
       "12                     2.535211  \n",
       "13                     1.000000  \n",
       "14                     1.100329  \n",
       "15                     1.949002  \n",
       "16                     1.095238  \n",
       "17                     1.150203  \n",
       "18                     2.596685  \n",
       "19                     1.340000  \n",
       "20                     1.074371  \n",
       "21                     5.391509  \n",
       "22                     2.702222  \n",
       "23                     1.000771  "
      ]
     },
     "execution_count": 9,
     "metadata": {},
     "output_type": "execute_result"
    }
   ],
   "source": [
    "contents_count = ohou_contents.groupby([\"year\", \"type\"]).size().to_frame(\"count\").reset_index()\n",
    "user_count = ohou_contents.groupby([\"year\", \"type\"])[\"user_id\"].nunique().to_frame(\"unique_user_count\").reset_index()\n",
    "\n",
    "contents_summary = pd.merge(contents_count, user_count, on = [\"year\", \"type\"])\n",
    "contents_summary[\"average_user_contents_count\"] = contents_summary[\"count\"] / contents_summary[\"unique_user_count\"]\n",
    "contents_summary"
   ]
  },
  {
   "cell_type": "code",
   "execution_count": null,
   "metadata": {},
   "outputs": [],
   "source": [
    "ohou_contents.groupby([\"year\",\"user_id\"]).size"
   ]
  },
  {
   "cell_type": "code",
   "execution_count": null,
   "metadata": {},
   "outputs": [
    {
     "data": {
      "text/html": [
       "<div>\n",
       "<style scoped>\n",
       "    .dataframe tbody tr th:only-of-type {\n",
       "        vertical-align: middle;\n",
       "    }\n",
       "\n",
       "    .dataframe tbody tr th {\n",
       "        vertical-align: top;\n",
       "    }\n",
       "\n",
       "    .dataframe thead th {\n",
       "        text-align: right;\n",
       "    }\n",
       "</style>\n",
       "<table border=\"1\" class=\"dataframe\">\n",
       "  <thead>\n",
       "    <tr style=\"text-align: right;\">\n",
       "      <th></th>\n",
       "      <th>year</th>\n",
       "      <th>type</th>\n",
       "      <th>count</th>\n",
       "    </tr>\n",
       "  </thead>\n",
       "  <tbody>\n",
       "    <tr>\n",
       "      <th>0</th>\n",
       "      <td>2014</td>\n",
       "      <td>projects</td>\n",
       "      <td>39</td>\n",
       "    </tr>\n",
       "    <tr>\n",
       "      <th>1</th>\n",
       "      <td>2015</td>\n",
       "      <td>advices</td>\n",
       "      <td>141</td>\n",
       "    </tr>\n",
       "    <tr>\n",
       "      <th>2</th>\n",
       "      <td>2015</td>\n",
       "      <td>projects</td>\n",
       "      <td>379</td>\n",
       "    </tr>\n",
       "    <tr>\n",
       "      <th>3</th>\n",
       "      <td>2016</td>\n",
       "      <td>advices</td>\n",
       "      <td>749</td>\n",
       "    </tr>\n",
       "    <tr>\n",
       "      <th>4</th>\n",
       "      <td>2016</td>\n",
       "      <td>projects</td>\n",
       "      <td>305</td>\n",
       "    </tr>\n",
       "    <tr>\n",
       "      <th>5</th>\n",
       "      <td>2017</td>\n",
       "      <td>advices</td>\n",
       "      <td>143</td>\n",
       "    </tr>\n",
       "    <tr>\n",
       "      <th>6</th>\n",
       "      <td>2017</td>\n",
       "      <td>projects</td>\n",
       "      <td>348</td>\n",
       "    </tr>\n",
       "    <tr>\n",
       "      <th>7</th>\n",
       "      <td>2018</td>\n",
       "      <td>advices</td>\n",
       "      <td>198</td>\n",
       "    </tr>\n",
       "    <tr>\n",
       "      <th>8</th>\n",
       "      <td>2018</td>\n",
       "      <td>projects</td>\n",
       "      <td>508</td>\n",
       "    </tr>\n",
       "    <tr>\n",
       "      <th>9</th>\n",
       "      <td>2019</td>\n",
       "      <td>advices</td>\n",
       "      <td>498</td>\n",
       "    </tr>\n",
       "    <tr>\n",
       "      <th>10</th>\n",
       "      <td>2019</td>\n",
       "      <td>card_collection</td>\n",
       "      <td>9</td>\n",
       "    </tr>\n",
       "    <tr>\n",
       "      <th>11</th>\n",
       "      <td>2019</td>\n",
       "      <td>projects</td>\n",
       "      <td>1233</td>\n",
       "    </tr>\n",
       "    <tr>\n",
       "      <th>12</th>\n",
       "      <td>2020</td>\n",
       "      <td>advices</td>\n",
       "      <td>540</td>\n",
       "    </tr>\n",
       "    <tr>\n",
       "      <th>13</th>\n",
       "      <td>2020</td>\n",
       "      <td>card_collection</td>\n",
       "      <td>4</td>\n",
       "    </tr>\n",
       "    <tr>\n",
       "      <th>14</th>\n",
       "      <td>2020</td>\n",
       "      <td>projects</td>\n",
       "      <td>1338</td>\n",
       "    </tr>\n",
       "    <tr>\n",
       "      <th>15</th>\n",
       "      <td>2021</td>\n",
       "      <td>advices</td>\n",
       "      <td>879</td>\n",
       "    </tr>\n",
       "    <tr>\n",
       "      <th>16</th>\n",
       "      <td>2021</td>\n",
       "      <td>card_collection</td>\n",
       "      <td>16</td>\n",
       "    </tr>\n",
       "    <tr>\n",
       "      <th>17</th>\n",
       "      <td>2021</td>\n",
       "      <td>projects</td>\n",
       "      <td>1700</td>\n",
       "    </tr>\n",
       "    <tr>\n",
       "      <th>18</th>\n",
       "      <td>2022</td>\n",
       "      <td>advices</td>\n",
       "      <td>1880</td>\n",
       "    </tr>\n",
       "    <tr>\n",
       "      <th>19</th>\n",
       "      <td>2022</td>\n",
       "      <td>card_collection</td>\n",
       "      <td>39</td>\n",
       "    </tr>\n",
       "    <tr>\n",
       "      <th>20</th>\n",
       "      <td>2022</td>\n",
       "      <td>projects</td>\n",
       "      <td>2008</td>\n",
       "    </tr>\n",
       "    <tr>\n",
       "      <th>21</th>\n",
       "      <td>2023</td>\n",
       "      <td>advices</td>\n",
       "      <td>1142</td>\n",
       "    </tr>\n",
       "    <tr>\n",
       "      <th>22</th>\n",
       "      <td>2023</td>\n",
       "      <td>card_collection</td>\n",
       "      <td>57893</td>\n",
       "    </tr>\n",
       "    <tr>\n",
       "      <th>23</th>\n",
       "      <td>2023</td>\n",
       "      <td>projects</td>\n",
       "      <td>1298</td>\n",
       "    </tr>\n",
       "  </tbody>\n",
       "</table>\n",
       "</div>"
      ],
      "text/plain": [
       "    year             type  count\n",
       "0   2014         projects     39\n",
       "1   2015          advices    141\n",
       "2   2015         projects    379\n",
       "3   2016          advices    749\n",
       "4   2016         projects    305\n",
       "5   2017          advices    143\n",
       "6   2017         projects    348\n",
       "7   2018          advices    198\n",
       "8   2018         projects    508\n",
       "9   2019          advices    498\n",
       "10  2019  card_collection      9\n",
       "11  2019         projects   1233\n",
       "12  2020          advices    540\n",
       "13  2020  card_collection      4\n",
       "14  2020         projects   1338\n",
       "15  2021          advices    879\n",
       "16  2021  card_collection     16\n",
       "17  2021         projects   1700\n",
       "18  2022          advices   1880\n",
       "19  2022  card_collection     39\n",
       "20  2022         projects   2008\n",
       "21  2023          advices   1142\n",
       "22  2023  card_collection  57893\n",
       "23  2023         projects   1298"
      ]
     },
     "metadata": {},
     "output_type": "display_data"
    }
   ],
   "source": [
    "ohou_contents.groupby([\"year\", \"type\"]).size().to_frame(\"count\").reset_index()"
   ]
  },
  {
   "cell_type": "code",
   "execution_count": 218,
   "metadata": {},
   "outputs": [],
   "source": [
    "cards_df[\"card_collection_id\"] = cards_df[\"card_collection\"].apply(lambda x: x.get(\"id\") if pd.isna(x) == False else None) \n",
    "cards_df[\"card_collection_created_at\"] = cards_df[\"card_collection\"].apply(lambda x: x.get(\"created_at\") if pd.isna(x) == False else None) \n",
    "cards_df[\"image_url\"] = cards_df[\"image\"].apply(lambda x: x.get(\"url\"))"
   ]
  },
  {
   "cell_type": "code",
   "execution_count": 225,
   "metadata": {},
   "outputs": [
    {
     "data": {
      "text/plain": [
       "'2019-01-29T10:50:23.000+09:00'"
      ]
     },
     "execution_count": 225,
     "metadata": {},
     "output_type": "execute_result"
    }
   ],
   "source": [
    "cards_df.loc[cards_df[\"card_collection\"].isna() == False].card_collection_created_at.min()"
   ]
  },
  {
   "cell_type": "code",
   "execution_count": 220,
   "metadata": {},
   "outputs": [
    {
     "data": {
      "text/html": [
       "<div>\n",
       "<style scoped>\n",
       "    .dataframe tbody tr th:only-of-type {\n",
       "        vertical-align: middle;\n",
       "    }\n",
       "\n",
       "    .dataframe tbody tr th {\n",
       "        vertical-align: top;\n",
       "    }\n",
       "\n",
       "    .dataframe thead th {\n",
       "        text-align: right;\n",
       "    }\n",
       "</style>\n",
       "<table border=\"1\" class=\"dataframe\">\n",
       "  <thead>\n",
       "    <tr style=\"text-align: right;\">\n",
       "      <th></th>\n",
       "      <th>created_at</th>\n",
       "      <th>card_collection_created_at</th>\n",
       "    </tr>\n",
       "  </thead>\n",
       "  <tbody>\n",
       "    <tr>\n",
       "      <th>1</th>\n",
       "      <td>2023-08-28T02:48:16.000+09:00</td>\n",
       "      <td>None</td>\n",
       "    </tr>\n",
       "    <tr>\n",
       "      <th>2</th>\n",
       "      <td>2023-08-28T02:48:16.000+09:00</td>\n",
       "      <td>None</td>\n",
       "    </tr>\n",
       "    <tr>\n",
       "      <th>5</th>\n",
       "      <td>2023-08-28T11:19:48.000+09:00</td>\n",
       "      <td>None</td>\n",
       "    </tr>\n",
       "    <tr>\n",
       "      <th>6</th>\n",
       "      <td>2023-08-27T09:57:10.000+09:00</td>\n",
       "      <td>None</td>\n",
       "    </tr>\n",
       "    <tr>\n",
       "      <th>7</th>\n",
       "      <td>2023-08-28T02:48:16.000+09:00</td>\n",
       "      <td>None</td>\n",
       "    </tr>\n",
       "    <tr>\n",
       "      <th>...</th>\n",
       "      <td>...</td>\n",
       "      <td>...</td>\n",
       "    </tr>\n",
       "    <tr>\n",
       "      <th>148639</th>\n",
       "      <td>2023-06-29T22:39:59.000+09:00</td>\n",
       "      <td>2023-06-21T09:53:49.000+09:00</td>\n",
       "    </tr>\n",
       "    <tr>\n",
       "      <th>148640</th>\n",
       "      <td>2023-06-29T22:39:59.000+09:00</td>\n",
       "      <td>2023-06-21T09:53:49.000+09:00</td>\n",
       "    </tr>\n",
       "    <tr>\n",
       "      <th>148720</th>\n",
       "      <td>2023-06-28T23:58:55.000+09:00</td>\n",
       "      <td>2023-06-28T23:20:16.000+09:00</td>\n",
       "    </tr>\n",
       "    <tr>\n",
       "      <th>148746</th>\n",
       "      <td>2023-06-28T23:53:21.000+09:00</td>\n",
       "      <td>2023-06-28T23:49:40.000+09:00</td>\n",
       "    </tr>\n",
       "    <tr>\n",
       "      <th>148852</th>\n",
       "      <td>2023-06-20T18:03:08.000+09:00</td>\n",
       "      <td>2023-06-20T17:57:29.000+09:00</td>\n",
       "    </tr>\n",
       "  </tbody>\n",
       "</table>\n",
       "<p>13060 rows × 2 columns</p>\n",
       "</div>"
      ],
      "text/plain": [
       "                           created_at     card_collection_created_at\n",
       "1       2023-08-28T02:48:16.000+09:00                           None\n",
       "2       2023-08-28T02:48:16.000+09:00                           None\n",
       "5       2023-08-28T11:19:48.000+09:00                           None\n",
       "6       2023-08-27T09:57:10.000+09:00                           None\n",
       "7       2023-08-28T02:48:16.000+09:00                           None\n",
       "...                               ...                            ...\n",
       "148639  2023-06-29T22:39:59.000+09:00  2023-06-21T09:53:49.000+09:00\n",
       "148640  2023-06-29T22:39:59.000+09:00  2023-06-21T09:53:49.000+09:00\n",
       "148720  2023-06-28T23:58:55.000+09:00  2023-06-28T23:20:16.000+09:00\n",
       "148746  2023-06-28T23:53:21.000+09:00  2023-06-28T23:49:40.000+09:00\n",
       "148852  2023-06-20T18:03:08.000+09:00  2023-06-20T17:57:29.000+09:00\n",
       "\n",
       "[13060 rows x 2 columns]"
      ]
     },
     "execution_count": 220,
     "metadata": {},
     "output_type": "execute_result"
    }
   ],
   "source": [
    "cards_df.loc[cards_df[\"created_at\"] != cards_df[\"card_collection_created_at\"], [\"created_at\", \"card_collection_created_at\"]]"
   ]
  },
  {
   "cell_type": "code",
   "execution_count": 12,
   "metadata": {},
   "outputs": [
    {
     "data": {
      "text/plain": [
       "(487107, 28)"
      ]
     },
     "execution_count": 12,
     "metadata": {},
     "output_type": "execute_result"
    }
   ],
   "source": [
    "cards_df.shape"
   ]
  },
  {
   "cell_type": "code",
   "execution_count": null,
   "metadata": {},
   "outputs": [],
   "source": [
    "cards_df[\"created_at\"].min()"
   ]
  },
  {
   "cell_type": "code",
   "execution_count": 24,
   "metadata": {},
   "outputs": [
    {
     "ename": "AttributeError",
     "evalue": "Can only use .dt accessor with datetimelike values",
     "output_type": "error",
     "traceback": [
      "\u001b[0;31m---------------------------------------------------------------------------\u001b[0m",
      "\u001b[0;31mAttributeError\u001b[0m                            Traceback (most recent call last)",
      "\u001b[1;32m/home/seho/Ohou_Crawl/ohou_ crawl_main.ipynb 셀 39\u001b[0m in \u001b[0;36m<cell line: 1>\u001b[0;34m()\u001b[0m\n\u001b[0;32m----> <a href='vscode-notebook-cell://wsl%2Bubuntu-22.04/home/seho/Ohou_Crawl/ohou_%20crawl_main.ipynb#Y203sdnNjb2RlLXJlbW90ZQ%3D%3D?line=0'>1</a>\u001b[0m cards_df[\u001b[39m\"\u001b[39m\u001b[39mcc_created_at\u001b[39m\u001b[39m\"\u001b[39m] \u001b[39m=\u001b[39m cards_df[\u001b[39m\"\u001b[39;49m\u001b[39mcard_collection_created_at\u001b[39;49m\u001b[39m\"\u001b[39;49m]\u001b[39m.\u001b[39;49mfillna(\u001b[39m\"\u001b[39;49m\u001b[39m9999\u001b[39;49m\u001b[39m\"\u001b[39;49m)\u001b[39m.\u001b[39;49mdt\u001b[39m.\u001b[39myear\n",
      "File \u001b[0;32m~/.local/lib/python3.10/site-packages/pandas/core/generic.py:5575\u001b[0m, in \u001b[0;36mNDFrame.__getattr__\u001b[0;34m(self, name)\u001b[0m\n\u001b[1;32m   5568\u001b[0m \u001b[39mif\u001b[39;00m (\n\u001b[1;32m   5569\u001b[0m     name \u001b[39mnot\u001b[39;00m \u001b[39min\u001b[39;00m \u001b[39mself\u001b[39m\u001b[39m.\u001b[39m_internal_names_set\n\u001b[1;32m   5570\u001b[0m     \u001b[39mand\u001b[39;00m name \u001b[39mnot\u001b[39;00m \u001b[39min\u001b[39;00m \u001b[39mself\u001b[39m\u001b[39m.\u001b[39m_metadata\n\u001b[1;32m   5571\u001b[0m     \u001b[39mand\u001b[39;00m name \u001b[39mnot\u001b[39;00m \u001b[39min\u001b[39;00m \u001b[39mself\u001b[39m\u001b[39m.\u001b[39m_accessors\n\u001b[1;32m   5572\u001b[0m     \u001b[39mand\u001b[39;00m \u001b[39mself\u001b[39m\u001b[39m.\u001b[39m_info_axis\u001b[39m.\u001b[39m_can_hold_identifiers_and_holds_name(name)\n\u001b[1;32m   5573\u001b[0m ):\n\u001b[1;32m   5574\u001b[0m     \u001b[39mreturn\u001b[39;00m \u001b[39mself\u001b[39m[name]\n\u001b[0;32m-> 5575\u001b[0m \u001b[39mreturn\u001b[39;00m \u001b[39mobject\u001b[39;49m\u001b[39m.\u001b[39;49m\u001b[39m__getattribute__\u001b[39;49m(\u001b[39mself\u001b[39;49m, name)\n",
      "File \u001b[0;32m~/.local/lib/python3.10/site-packages/pandas/core/accessor.py:182\u001b[0m, in \u001b[0;36mCachedAccessor.__get__\u001b[0;34m(self, obj, cls)\u001b[0m\n\u001b[1;32m    179\u001b[0m \u001b[39mif\u001b[39;00m obj \u001b[39mis\u001b[39;00m \u001b[39mNone\u001b[39;00m:\n\u001b[1;32m    180\u001b[0m     \u001b[39m# we're accessing the attribute of the class, i.e., Dataset.geo\u001b[39;00m\n\u001b[1;32m    181\u001b[0m     \u001b[39mreturn\u001b[39;00m \u001b[39mself\u001b[39m\u001b[39m.\u001b[39m_accessor\n\u001b[0;32m--> 182\u001b[0m accessor_obj \u001b[39m=\u001b[39m \u001b[39mself\u001b[39;49m\u001b[39m.\u001b[39;49m_accessor(obj)\n\u001b[1;32m    183\u001b[0m \u001b[39m# Replace the property with the accessor object. Inspired by:\u001b[39;00m\n\u001b[1;32m    184\u001b[0m \u001b[39m# https://www.pydanny.com/cached-property.html\u001b[39;00m\n\u001b[1;32m    185\u001b[0m \u001b[39m# We need to use object.__setattr__ because we overwrite __setattr__ on\u001b[39;00m\n\u001b[1;32m    186\u001b[0m \u001b[39m# NDFrame\u001b[39;00m\n\u001b[1;32m    187\u001b[0m \u001b[39mobject\u001b[39m\u001b[39m.\u001b[39m\u001b[39m__setattr__\u001b[39m(obj, \u001b[39mself\u001b[39m\u001b[39m.\u001b[39m_name, accessor_obj)\n",
      "File \u001b[0;32m~/.local/lib/python3.10/site-packages/pandas/core/indexes/accessors.py:509\u001b[0m, in \u001b[0;36mCombinedDatetimelikeProperties.__new__\u001b[0;34m(cls, data)\u001b[0m\n\u001b[1;32m    506\u001b[0m \u001b[39melif\u001b[39;00m is_period_dtype(data\u001b[39m.\u001b[39mdtype):\n\u001b[1;32m    507\u001b[0m     \u001b[39mreturn\u001b[39;00m PeriodProperties(data, orig)\n\u001b[0;32m--> 509\u001b[0m \u001b[39mraise\u001b[39;00m \u001b[39mAttributeError\u001b[39;00m(\u001b[39m\"\u001b[39m\u001b[39mCan only use .dt accessor with datetimelike values\u001b[39m\u001b[39m\"\u001b[39m)\n",
      "\u001b[0;31mAttributeError\u001b[0m: Can only use .dt accessor with datetimelike values"
     ]
    }
   ],
   "source": [
    "cards_df[\"cc_created_at\"] = cards_df[\"card_collection_created_at\"].dt.year"
   ]
  },
  {
   "cell_type": "code",
   "execution_count": 20,
   "metadata": {},
   "outputs": [
    {
     "ename": "TypeError",
     "evalue": "Only valid with DatetimeIndex, TimedeltaIndex or PeriodIndex, but got an instance of 'Index'",
     "output_type": "error",
     "traceback": [
      "\u001b[0;31m---------------------------------------------------------------------------\u001b[0m",
      "\u001b[0;31mTypeError\u001b[0m                                 Traceback (most recent call last)",
      "\u001b[1;32m/home/seho/Ohou_Crawl/ohou_ crawl_main.ipynb 셀 39\u001b[0m in \u001b[0;36m<cell line: 2>\u001b[0;34m()\u001b[0m\n\u001b[1;32m      <a href='vscode-notebook-cell://wsl%2Bubuntu-22.04/home/seho/Ohou_Crawl/ohou_%20crawl_main.ipynb#Y201sdnNjb2RlLXJlbW90ZQ%3D%3D?line=0'>1</a>\u001b[0m gr \u001b[39m=\u001b[39m pd\u001b[39m.\u001b[39mGrouper(key \u001b[39m=\u001b[39m \u001b[39m\"\u001b[39m\u001b[39mcard_collection_created_at\u001b[39m\u001b[39m\"\u001b[39m, freq \u001b[39m=\u001b[39m \u001b[39m\"\u001b[39m\u001b[39mY\u001b[39m\u001b[39m\"\u001b[39m)\n\u001b[0;32m----> <a href='vscode-notebook-cell://wsl%2Bubuntu-22.04/home/seho/Ohou_Crawl/ohou_%20crawl_main.ipynb#Y201sdnNjb2RlLXJlbW90ZQ%3D%3D?line=1'>2</a>\u001b[0m cards_df\u001b[39m.\u001b[39;49mloc[\u001b[39m~\u001b[39;49mcards_df[\u001b[39m\"\u001b[39;49m\u001b[39mcard_collection_created_at\u001b[39;49m\u001b[39m\"\u001b[39;49m]\u001b[39m.\u001b[39;49misna()]\u001b[39m.\u001b[39;49mgroupby(gr)\u001b[39m.\u001b[39msize()\n",
      "File \u001b[0;32m~/.local/lib/python3.10/site-packages/pandas/core/frame.py:7718\u001b[0m, in \u001b[0;36mDataFrame.groupby\u001b[0;34m(self, by, axis, level, as_index, sort, group_keys, squeeze, observed, dropna)\u001b[0m\n\u001b[1;32m   7713\u001b[0m axis \u001b[39m=\u001b[39m \u001b[39mself\u001b[39m\u001b[39m.\u001b[39m_get_axis_number(axis)\n\u001b[1;32m   7715\u001b[0m \u001b[39m# https://github.com/python/mypy/issues/7642\u001b[39;00m\n\u001b[1;32m   7716\u001b[0m \u001b[39m# error: Argument \"squeeze\" to \"DataFrameGroupBy\" has incompatible type\u001b[39;00m\n\u001b[1;32m   7717\u001b[0m \u001b[39m# \"Union[bool, NoDefault]\"; expected \"bool\"\u001b[39;00m\n\u001b[0;32m-> 7718\u001b[0m \u001b[39mreturn\u001b[39;00m DataFrameGroupBy(\n\u001b[1;32m   7719\u001b[0m     obj\u001b[39m=\u001b[39;49m\u001b[39mself\u001b[39;49m,\n\u001b[1;32m   7720\u001b[0m     keys\u001b[39m=\u001b[39;49mby,\n\u001b[1;32m   7721\u001b[0m     axis\u001b[39m=\u001b[39;49maxis,\n\u001b[1;32m   7722\u001b[0m     level\u001b[39m=\u001b[39;49mlevel,\n\u001b[1;32m   7723\u001b[0m     as_index\u001b[39m=\u001b[39;49mas_index,\n\u001b[1;32m   7724\u001b[0m     sort\u001b[39m=\u001b[39;49msort,\n\u001b[1;32m   7725\u001b[0m     group_keys\u001b[39m=\u001b[39;49mgroup_keys,\n\u001b[1;32m   7726\u001b[0m     squeeze\u001b[39m=\u001b[39;49msqueeze,  \u001b[39m# type: ignore[arg-type]\u001b[39;49;00m\n\u001b[1;32m   7727\u001b[0m     observed\u001b[39m=\u001b[39;49mobserved,\n\u001b[1;32m   7728\u001b[0m     dropna\u001b[39m=\u001b[39;49mdropna,\n\u001b[1;32m   7729\u001b[0m )\n",
      "File \u001b[0;32m~/.local/lib/python3.10/site-packages/pandas/core/groupby/groupby.py:882\u001b[0m, in \u001b[0;36mGroupBy.__init__\u001b[0;34m(self, obj, keys, axis, level, grouper, exclusions, selection, as_index, sort, group_keys, squeeze, observed, mutated, dropna)\u001b[0m\n\u001b[1;32m    879\u001b[0m \u001b[39mif\u001b[39;00m grouper \u001b[39mis\u001b[39;00m \u001b[39mNone\u001b[39;00m:\n\u001b[1;32m    880\u001b[0m     \u001b[39mfrom\u001b[39;00m \u001b[39mpandas\u001b[39;00m\u001b[39m.\u001b[39;00m\u001b[39mcore\u001b[39;00m\u001b[39m.\u001b[39;00m\u001b[39mgroupby\u001b[39;00m\u001b[39m.\u001b[39;00m\u001b[39mgrouper\u001b[39;00m \u001b[39mimport\u001b[39;00m get_grouper\n\u001b[0;32m--> 882\u001b[0m     grouper, exclusions, obj \u001b[39m=\u001b[39m get_grouper(\n\u001b[1;32m    883\u001b[0m         obj,\n\u001b[1;32m    884\u001b[0m         keys,\n\u001b[1;32m    885\u001b[0m         axis\u001b[39m=\u001b[39;49maxis,\n\u001b[1;32m    886\u001b[0m         level\u001b[39m=\u001b[39;49mlevel,\n\u001b[1;32m    887\u001b[0m         sort\u001b[39m=\u001b[39;49msort,\n\u001b[1;32m    888\u001b[0m         observed\u001b[39m=\u001b[39;49mobserved,\n\u001b[1;32m    889\u001b[0m         mutated\u001b[39m=\u001b[39;49m\u001b[39mself\u001b[39;49m\u001b[39m.\u001b[39;49mmutated,\n\u001b[1;32m    890\u001b[0m         dropna\u001b[39m=\u001b[39;49m\u001b[39mself\u001b[39;49m\u001b[39m.\u001b[39;49mdropna,\n\u001b[1;32m    891\u001b[0m     )\n\u001b[1;32m    893\u001b[0m \u001b[39mself\u001b[39m\u001b[39m.\u001b[39mobj \u001b[39m=\u001b[39m obj\n\u001b[1;32m    894\u001b[0m \u001b[39mself\u001b[39m\u001b[39m.\u001b[39maxis \u001b[39m=\u001b[39m obj\u001b[39m.\u001b[39m_get_axis_number(axis)\n",
      "File \u001b[0;32m~/.local/lib/python3.10/site-packages/pandas/core/groupby/grouper.py:784\u001b[0m, in \u001b[0;36mget_grouper\u001b[0;34m(obj, key, axis, level, sort, observed, mutated, validate, dropna)\u001b[0m\n\u001b[1;32m    782\u001b[0m \u001b[39m# a passed-in Grouper, directly convert\u001b[39;00m\n\u001b[1;32m    783\u001b[0m \u001b[39mif\u001b[39;00m \u001b[39misinstance\u001b[39m(key, Grouper):\n\u001b[0;32m--> 784\u001b[0m     binner, grouper, obj \u001b[39m=\u001b[39m key\u001b[39m.\u001b[39;49m_get_grouper(obj, validate\u001b[39m=\u001b[39;49m\u001b[39mFalse\u001b[39;49;00m)\n\u001b[1;32m    785\u001b[0m     \u001b[39mif\u001b[39;00m key\u001b[39m.\u001b[39mkey \u001b[39mis\u001b[39;00m \u001b[39mNone\u001b[39;00m:\n\u001b[1;32m    786\u001b[0m         \u001b[39mreturn\u001b[39;00m grouper, \u001b[39mfrozenset\u001b[39m(), obj\n",
      "File \u001b[0;32m~/.local/lib/python3.10/site-packages/pandas/core/resample.py:1607\u001b[0m, in \u001b[0;36mTimeGrouper._get_grouper\u001b[0;34m(self, obj, validate)\u001b[0m\n\u001b[1;32m   1605\u001b[0m \u001b[39mdef\u001b[39;00m \u001b[39m_get_grouper\u001b[39m(\u001b[39mself\u001b[39m, obj, validate: \u001b[39mbool\u001b[39m \u001b[39m=\u001b[39m \u001b[39mTrue\u001b[39;00m):\n\u001b[1;32m   1606\u001b[0m     \u001b[39m# create the resampler and return our binner\u001b[39;00m\n\u001b[0;32m-> 1607\u001b[0m     r \u001b[39m=\u001b[39m \u001b[39mself\u001b[39;49m\u001b[39m.\u001b[39;49m_get_resampler(obj)\n\u001b[1;32m   1608\u001b[0m     \u001b[39mreturn\u001b[39;00m r\u001b[39m.\u001b[39mbinner, r\u001b[39m.\u001b[39mgrouper, r\u001b[39m.\u001b[39mobj\n",
      "File \u001b[0;32m~/.local/lib/python3.10/site-packages/pandas/core/resample.py:1599\u001b[0m, in \u001b[0;36mTimeGrouper._get_resampler\u001b[0;34m(self, obj, kind)\u001b[0m\n\u001b[1;32m   1596\u001b[0m \u001b[39melif\u001b[39;00m \u001b[39misinstance\u001b[39m(ax, TimedeltaIndex):\n\u001b[1;32m   1597\u001b[0m     \u001b[39mreturn\u001b[39;00m TimedeltaIndexResampler(obj, groupby\u001b[39m=\u001b[39m\u001b[39mself\u001b[39m, axis\u001b[39m=\u001b[39m\u001b[39mself\u001b[39m\u001b[39m.\u001b[39maxis)\n\u001b[0;32m-> 1599\u001b[0m \u001b[39mraise\u001b[39;00m \u001b[39mTypeError\u001b[39;00m(\n\u001b[1;32m   1600\u001b[0m     \u001b[39m\"\u001b[39m\u001b[39mOnly valid with DatetimeIndex, \u001b[39m\u001b[39m\"\u001b[39m\n\u001b[1;32m   1601\u001b[0m     \u001b[39m\"\u001b[39m\u001b[39mTimedeltaIndex or PeriodIndex, \u001b[39m\u001b[39m\"\u001b[39m\n\u001b[1;32m   1602\u001b[0m     \u001b[39mf\u001b[39m\u001b[39m\"\u001b[39m\u001b[39mbut got an instance of \u001b[39m\u001b[39m'\u001b[39m\u001b[39m{\u001b[39;00m\u001b[39mtype\u001b[39m(ax)\u001b[39m.\u001b[39m\u001b[39m__name__\u001b[39m\u001b[39m}\u001b[39;00m\u001b[39m'\u001b[39m\u001b[39m\"\u001b[39m\n\u001b[1;32m   1603\u001b[0m )\n",
      "\u001b[0;31mTypeError\u001b[0m: Only valid with DatetimeIndex, TimedeltaIndex or PeriodIndex, but got an instance of 'Index'"
     ]
    }
   ],
   "source": [
    "gr = pd.Grouper(key = \"card_collection_created_at\", freq = \"Y\")\n",
    "cards_df.loc[~cards_df[\"card_collection_created_at\"].isna()].groupby(gr).size()"
   ]
  },
  {
   "cell_type": "code",
   "execution_count": 17,
   "metadata": {},
   "outputs": [
    {
     "data": {
      "text/plain": [
       "'2019-01-29T10:50:23.000+09:00'"
      ]
     },
     "execution_count": 17,
     "metadata": {},
     "output_type": "execute_result"
    }
   ],
   "source": [
    "cards_df[\"card_collection_created_at\"].fillna(\"99999\").min()"
   ]
  },
  {
   "cell_type": "code",
   "execution_count": 10,
   "metadata": {},
   "outputs": [
    {
     "data": {
      "text/html": [
       "<div>\n",
       "<style scoped>\n",
       "    .dataframe tbody tr th:only-of-type {\n",
       "        vertical-align: middle;\n",
       "    }\n",
       "\n",
       "    .dataframe tbody tr th {\n",
       "        vertical-align: top;\n",
       "    }\n",
       "\n",
       "    .dataframe thead th {\n",
       "        text-align: right;\n",
       "    }\n",
       "</style>\n",
       "<table border=\"1\" class=\"dataframe\">\n",
       "  <thead>\n",
       "    <tr style=\"text-align: right;\">\n",
       "      <th></th>\n",
       "      <th>id</th>\n",
       "      <th>type</th>\n",
       "      <th>description</th>\n",
       "      <th>image</th>\n",
       "      <th>source</th>\n",
       "      <th>reply_count</th>\n",
       "      <th>scrap_count</th>\n",
       "      <th>like_count</th>\n",
       "      <th>view_count</th>\n",
       "      <th>share_count</th>\n",
       "      <th>...</th>\n",
       "      <th>keywords</th>\n",
       "      <th>hashtags</th>\n",
       "      <th>user</th>\n",
       "      <th>card_collection</th>\n",
       "      <th>tags</th>\n",
       "      <th>user_id</th>\n",
       "      <th>nickname</th>\n",
       "      <th>card_collection_id</th>\n",
       "      <th>card_collection_created_at</th>\n",
       "      <th>image_url</th>\n",
       "    </tr>\n",
       "  </thead>\n",
       "  <tbody>\n",
       "  </tbody>\n",
       "</table>\n",
       "<p>0 rows × 28 columns</p>\n",
       "</div>"
      ],
      "text/plain": [
       "Empty DataFrame\n",
       "Columns: [id, type, description, image, source, reply_count, scrap_count, like_count, view_count, share_count, place, style, title, created_at, is_hidden, is_scrap, is_liked, video, keywords, hashtags, user, card_collection, tags, user_id, nickname, card_collection_id, card_collection_created_at, image_url]\n",
       "Index: []\n",
       "\n",
       "[0 rows x 28 columns]"
      ]
     },
     "execution_count": 10,
     "metadata": {},
     "output_type": "execute_result"
    }
   ],
   "source": [
    "cards_df.loc[cards_df[\"id\"] == 9693346,]"
   ]
  },
  {
   "cell_type": "code",
   "execution_count": 217,
   "metadata": {},
   "outputs": [
    {
     "data": {
      "text/plain": [
       "{'id': 21393179,\n",
       " 'on_hide': False,\n",
       " 'card_count': 1,\n",
       " 'like_count': 13,\n",
       " 'scrap_count': 63,\n",
       " 'share_count': 11,\n",
       " 'reply_count': 5,\n",
       " 'view_count': 5324,\n",
       " 'total_like_count': 14,\n",
       " 'total_scrap_count': 98,\n",
       " 'total_share_count': 11,\n",
       " 'total_reply_count': 5,\n",
       " 'total_view_count': 9007,\n",
       " 'first_image_url': 'https://bucketplace-v2-development.s3.amazonaws.com/uploads/cards/snapshots/169271107396835163.jpeg',\n",
       " 'created_at': '2023-08-22T22:31:14.000+09:00',\n",
       " 'size': {'label': '10평 미만', 'value': 0},\n",
       " 'residence': {'label': '원룸&오피스텔', 'value': 0},\n",
       " 'style': {'label': '', 'value': None},\n",
       " 'is_hidden': False,\n",
       " 'is_scrap': False,\n",
       " 'is_liked': False,\n",
       " 'content_ads': None}"
      ]
     },
     "execution_count": 217,
     "metadata": {},
     "output_type": "execute_result"
    }
   ],
   "source": [
    "cards_df.loc[cards_df[\"card_collection_id\"] == 21393179, \"card_collection\"].to_list()[0]"
   ]
  },
  {
   "cell_type": "code",
   "execution_count": 151,
   "metadata": {},
   "outputs": [],
   "source": [
    "cards_df[\"image_url\"] = cards_df[\"image\"].apply(lambda x: x.get(\"url\"))"
   ]
  },
  {
   "cell_type": "code",
   "execution_count": 161,
   "metadata": {},
   "outputs": [
    {
     "data": {
      "text/plain": [
       "21090116.0    40\n",
       "21090180.0    40\n",
       "21020579.0    40\n",
       "21090025.0    35\n",
       "21020421.0    32\n",
       "              ..\n",
       "21411069.0     1\n",
       "21411024.0     1\n",
       "21411017.0     1\n",
       "21411016.0     1\n",
       "21350584.0     1\n",
       "Name: card_collection_id, Length: 57961, dtype: int64"
      ]
     },
     "execution_count": 161,
     "metadata": {},
     "output_type": "execute_result"
    }
   ],
   "source": [
    "cards_df[\"card_collection_id\"].value_counts()"
   ]
  },
  {
   "cell_type": "code",
   "execution_count": 162,
   "metadata": {},
   "outputs": [
    {
     "data": {
      "text/html": [
       "<div>\n",
       "<style scoped>\n",
       "    .dataframe tbody tr th:only-of-type {\n",
       "        vertical-align: middle;\n",
       "    }\n",
       "\n",
       "    .dataframe tbody tr th {\n",
       "        vertical-align: top;\n",
       "    }\n",
       "\n",
       "    .dataframe thead th {\n",
       "        text-align: right;\n",
       "    }\n",
       "</style>\n",
       "<table border=\"1\" class=\"dataframe\">\n",
       "  <thead>\n",
       "    <tr style=\"text-align: right;\">\n",
       "      <th></th>\n",
       "      <th>id</th>\n",
       "      <th>type</th>\n",
       "      <th>description</th>\n",
       "      <th>image</th>\n",
       "      <th>source</th>\n",
       "      <th>reply_count</th>\n",
       "      <th>scrap_count</th>\n",
       "      <th>like_count</th>\n",
       "      <th>view_count</th>\n",
       "      <th>share_count</th>\n",
       "      <th>...</th>\n",
       "      <th>is_scrap</th>\n",
       "      <th>is_liked</th>\n",
       "      <th>video</th>\n",
       "      <th>keywords</th>\n",
       "      <th>hashtags</th>\n",
       "      <th>user</th>\n",
       "      <th>card_collection</th>\n",
       "      <th>tags</th>\n",
       "      <th>card_collection_id</th>\n",
       "      <th>image_url</th>\n",
       "    </tr>\n",
       "  </thead>\n",
       "  <tbody>\n",
       "    <tr>\n",
       "      <th>58978</th>\n",
       "      <td>26552882</td>\n",
       "      <td>CardImage</td>\n",
       "      <td></td>\n",
       "      <td>{'url': 'https://bucketplace-v2-development.s3...</td>\n",
       "      <td>None</td>\n",
       "      <td>0</td>\n",
       "      <td>0</td>\n",
       "      <td>0</td>\n",
       "      <td>4</td>\n",
       "      <td>0</td>\n",
       "      <td>...</td>\n",
       "      <td>False</td>\n",
       "      <td>False</td>\n",
       "      <td>None</td>\n",
       "      <td>[]</td>\n",
       "      <td>None</td>\n",
       "      <td>{'id': 3930694, 'nickname': ' 곤쥬', 'userable_t...</td>\n",
       "      <td>{'id': 21411017, 'on_hide': False, 'card_count...</td>\n",
       "      <td>[]</td>\n",
       "      <td>21411017.0</td>\n",
       "      <td>https://bucketplace-v2-development.s3.amazonaw...</td>\n",
       "    </tr>\n",
       "  </tbody>\n",
       "</table>\n",
       "<p>1 rows × 25 columns</p>\n",
       "</div>"
      ],
      "text/plain": [
       "             id       type description  \\\n",
       "58978  26552882  CardImage               \n",
       "\n",
       "                                                   image source  reply_count  \\\n",
       "58978  {'url': 'https://bucketplace-v2-development.s3...   None            0   \n",
       "\n",
       "       scrap_count  like_count  view_count  share_count  ... is_scrap  \\\n",
       "58978            0           0           4            0  ...    False   \n",
       "\n",
       "      is_liked video keywords  hashtags  \\\n",
       "58978    False  None       []      None   \n",
       "\n",
       "                                                    user  \\\n",
       "58978  {'id': 3930694, 'nickname': ' 곤쥬', 'userable_t...   \n",
       "\n",
       "                                         card_collection tags  \\\n",
       "58978  {'id': 21411017, 'on_hide': False, 'card_count...   []   \n",
       "\n",
       "      card_collection_id                                          image_url  \n",
       "58978         21411017.0  https://bucketplace-v2-development.s3.amazonaw...  \n",
       "\n",
       "[1 rows x 25 columns]"
      ]
     },
     "execution_count": 162,
     "metadata": {},
     "output_type": "execute_result"
    }
   ],
   "source": [
    "cards_df.loc[cards_df[\"card_collection_id\"]== 21411017]"
   ]
  },
  {
   "cell_type": "code",
   "execution_count": 164,
   "metadata": {},
   "outputs": [],
   "source": [
    "card_collection_df = cards_df.loc[cards_df[\"card_collection_id\"].isna() == False, [\"card_collection_id\", \"user\"]]"
   ]
  },
  {
   "cell_type": "code",
   "execution_count": 167,
   "metadata": {},
   "outputs": [
    {
     "data": {
      "text/plain": [
       "Index(['id', 'type', 'description', 'image', 'source', 'reply_count',\n",
       "       'scrap_count', 'like_count', 'view_count', 'share_count', 'place',\n",
       "       'style', 'title', 'created_at', 'is_hidden', 'is_scrap', 'is_liked',\n",
       "       'video', 'keywords', 'hashtags', 'user', 'card_collection', 'tags',\n",
       "       'card_collection_id', 'image_url'],\n",
       "      dtype='object')"
      ]
     },
     "execution_count": 167,
     "metadata": {},
     "output_type": "execute_result"
    }
   ],
   "source": [
    "cards_df.columns"
   ]
  },
  {
   "cell_type": "code",
   "execution_count": null,
   "metadata": {},
   "outputs": [],
   "source": []
  }
 ],
 "metadata": {
  "kernelspec": {
   "display_name": "Python 3.10.4 64-bit",
   "language": "python",
   "name": "python3"
  },
  "language_info": {
   "codemirror_mode": {
    "name": "ipython",
    "version": 3
   },
   "file_extension": ".py",
   "mimetype": "text/x-python",
   "name": "python",
   "nbconvert_exporter": "python",
   "pygments_lexer": "ipython3",
   "version": "3.10.4"
  },
  "orig_nbformat": 4,
  "vscode": {
   "interpreter": {
    "hash": "916dbcbb3f70747c44a77c7bcd40155683ae19c65e1c03b4aa3499c5328201f1"
   }
  }
 },
 "nbformat": 4,
 "nbformat_minor": 2
}
